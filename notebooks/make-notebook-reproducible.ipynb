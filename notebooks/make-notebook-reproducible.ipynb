{
 "cells": [
  {
   "cell_type": "markdown",
   "metadata": {},
   "source": [
    "# NOTEBOOK: Convert cells with pip commands automatically"
   ]
  },
  {
   "cell_type": "markdown",
   "metadata": {},
   "source": [
    "This notebook will show you how you can use horus feature to convert cells with pip commands to horus commands.\n",
    "This will guarantee reproducibility and you can share your notebooks safely."
   ]
  },
  {
   "cell_type": "markdown",
   "id": "18b38840",
   "metadata": {},
   "source": [
    "1. Run this command to convert all cells with pip commands into commands to make notebook reproducible"
   ]
  },
  {
   "cell_type": "code",
   "execution_count": null,
   "metadata": {},
   "outputs": [],
   "source": [
    "%horus convert"
   ]
  },
  {
   "cell_type": "code",
   "execution_count": null,
   "metadata": {},
   "outputs": [],
   "source": [
    "!pip install boto3\n",
    "!pip install numpy"
   ]
  },
  {
   "cell_type": "markdown",
   "id": "a16392ba",
   "metadata": {},
   "source": [
    "2. After running the converted commands above, you can check notebook requirements"
   ]
  },
  {
   "cell_type": "code",
   "execution_count": null,
   "metadata": {},
   "outputs": [],
   "source": [
    "%horus check"
   ]
  },
  {
   "cell_type": "markdown",
   "id": "5eee0cba",
   "metadata": {},
   "source": [
    "3. Run this command to lock dependencies and create a kernel for your notebook using Thoth resolution engine(alternative: add --pipenv parameter to use Pipevn resolution engine)"
   ]
  },
  {
   "cell_type": "code",
   "execution_count": null,
   "metadata": {},
   "outputs": [],
   "source": [
    "%horus lock"
   ]
  },
  {
   "cell_type": "markdown",
   "id": "ac160838",
   "metadata": {},
   "source": [
    "4. Run this command to verify all dependencies requirements to guarantee reproducibility are satisfied"
   ]
  },
  {
   "cell_type": "code",
   "execution_count": null,
   "metadata": {},
   "outputs": [],
   "source": [
    "%horus check"
   ]
  }
 ],
 "metadata": {
  "kernelspec": {
   "display_name": "Python 3 (ipykernel)",
   "language": "python",
   "name": "python3"
  },
  "language_info": {
   "codemirror_mode": {
    "name": "ipython",
    "version": 3
   },
   "file_extension": ".py",
   "mimetype": "text/x-python",
   "name": "python",
   "nbconvert_exporter": "python",
   "pygments_lexer": "ipython3",
   "version": "3.9.6"
  }
 },
 "nbformat": 4,
 "nbformat_minor": 5
}
