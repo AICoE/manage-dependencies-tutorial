{
 "cells": [
  {
   "cell_type": "markdown",
   "metadata": {},
   "source": [
    "# NOTEBOOK: Discover dependencies required automatically"
   ]
  },
  {
   "cell_type": "markdown",
   "metadata": {},
   "source": [
    "This notebook will show you how you can use thoth feature to discover dependencies used in your notebook and make your notebook reproducible."
   ]
  },
  {
   "cell_type": "code",
   "execution_count": null,
   "metadata": {},
   "outputs": [],
   "source": [
    "import pandas as pd\n",
    "import numpy as np  # noqa"
   ]
  },
  {
   "cell_type": "code",
   "execution_count": null,
   "id": "4c0c33c9",
   "metadata": {},
   "outputs": [],
   "source": [
    "df = pd.DataFrame()"
   ]
  },
  {
   "cell_type": "markdown",
   "id": "ed30920e",
   "metadata": {},
   "source": [
    "1. Run this command to check if the notebook has dependencies requirments"
   ]
  },
  {
   "cell_type": "code",
   "execution_count": null,
   "metadata": {},
   "outputs": [],
   "source": [
    "%horus check"
   ]
  },
  {
   "cell_type": "markdown",
   "id": "833aa759",
   "metadata": {},
   "source": [
    "2. Run this command to automatically discover what dependencies needs your notebook"
   ]
  },
  {
   "cell_type": "code",
   "execution_count": null,
   "metadata": {},
   "outputs": [],
   "source": [
    "%horus discover"
   ]
  },
  {
   "cell_type": "markdown",
   "id": "d574e702",
   "metadata": {},
   "source": [
    "3. Run this command to check if the dependencies have been added"
   ]
  },
  {
   "cell_type": "code",
   "execution_count": null,
   "metadata": {},
   "outputs": [],
   "source": [
    "%horus check"
   ]
  },
  {
   "cell_type": "markdown",
   "id": "8228c57f",
   "metadata": {},
   "source": [
    "4. Run this command to see the Pipfile present in the notebook"
   ]
  },
  {
   "cell_type": "code",
   "execution_count": null,
   "metadata": {},
   "outputs": [],
   "source": [
    "%horus show --pipfile"
   ]
  },
  {
   "cell_type": "markdown",
   "id": "ec687c83",
   "metadata": {},
   "source": [
    "5. Run this command to lock dependencies and create a kernel for your notebook using Thoth resolution engine (alternative: add --pipenv parameter to use Pipevn resolution engine)"
   ]
  },
  {
   "cell_type": "code",
   "execution_count": null,
   "metadata": {},
   "outputs": [],
   "source": [
    "%horus lock"
   ]
  },
  {
   "cell_type": "markdown",
   "id": "c0a64b6c",
   "metadata": {},
   "source": [
    "6. Run this command to verify all dependencies requirements to guarantee reproducibility are satisfied"
   ]
  },
  {
   "cell_type": "code",
   "execution_count": null,
   "metadata": {},
   "outputs": [],
   "source": [
    "%horus check"
   ]
  }
 ],
 "metadata": {
  "kernelspec": {
   "display_name": "Python 3 (ipykernel)",
   "language": "python",
   "name": "python3"
  },
  "language_info": {
   "codemirror_mode": {
    "name": "ipython",
    "version": 3
   },
   "file_extension": ".py",
   "mimetype": "text/x-python",
   "name": "python",
   "nbconvert_exporter": "python",
   "pygments_lexer": "ipython3",
   "version": "3.9.6"
  }
 },
 "nbformat": 4,
 "nbformat_minor": 5
}
